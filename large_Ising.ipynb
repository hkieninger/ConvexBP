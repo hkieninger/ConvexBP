{
 "cells": [
  {
   "cell_type": "markdown",
   "metadata": {},
   "source": [
    "Goal is to check wether ConvexBP works as well on a Ising Modell larger than the Ising Model proposed by Luca"
   ]
  },
  {
   "cell_type": "code",
   "execution_count": 27,
   "metadata": {},
   "outputs": [
    {
     "data": {
      "text/plain": [
       "{'divide': 'warn', 'over': 'warn', 'under': 'warn', 'invalid': 'warn'}"
      ]
     },
     "execution_count": 27,
     "metadata": {},
     "output_type": "execute_result"
    }
   ],
   "source": [
    "import numpy as np\n",
    "import matplotlib.pyplot as plt\n",
    "from ipywidgets import IntProgress\n",
    "from IPython.display import display\n",
    "\n",
    "np.random.seed(4589)\n",
    "# np.seterr(all=\"raise\")\n",
    "np.seterr(all=\"warn\")"
   ]
  },
  {
   "cell_type": "code",
   "execution_count": 28,
   "metadata": {},
   "outputs": [],
   "source": [
    "import snippets\n",
    "import LogBeliefPropagation"
   ]
  },
  {
   "cell_type": "code",
   "execution_count": 29,
   "metadata": {},
   "outputs": [],
   "source": [
    "num_cws = 100\n",
    "num_sybols_per_cw = 7\n",
    "max_iters = 1000\n",
    "rx, adjacency_matrix, log_factors = snippets.random_symbol_detection_ising_model(num_cws, N=num_sybols_per_cw, sigma=0.1)\n",
    "\n",
    "bp = LogBeliefPropagation.LogBeliefPropagation(adjacency_matrix, state_domain_size=2)\n",
    "gamma = bp.gammaDefaultCBP()"
   ]
  },
  {
   "cell_type": "code",
   "execution_count": 30,
   "metadata": {},
   "outputs": [
    {
     "data": {
      "application/vnd.jupyter.widget-view+json": {
       "model_id": "d7c2c5e9f8b44a6a95bb79c004e82228",
       "version_major": 2,
       "version_minor": 0
      },
      "text/plain": [
       "IntProgress(value=0)"
      ]
     },
     "metadata": {},
     "output_type": "display_data"
    },
    {
     "name": "stdout",
     "output_type": "stream",
     "text": [
      "100.0% converged (100/100)\n"
     ]
    }
   ],
   "source": [
    "var_beliefs = np.empty((num_cws, 7, 2))\n",
    "check_beliefs = np.empty((num_cws, bp.m) + bp.df_max * (2,))\n",
    "iterations = np.empty(var_beliefs.shape[0])\n",
    "\n",
    "progress_bar = IntProgress(min=0, max=num_cws)\n",
    "display(progress_bar)\n",
    "\n",
    "for cw_idx in range(var_beliefs.shape[0]):\n",
    "    progress_bar.value = cw_idx\n",
    "    (var_beliefs[cw_idx,:], check_beliefs[cw_idx,:], iterations[cw_idx]) = bp.run_log_belief_propagation(\n",
    "        max_iters=max_iters,\n",
    "        rtol=1e-5,\n",
    "        atol=1e-8,\n",
    "        infty=1e3,\n",
    "        log_factors=log_factors[cw_idx],\n",
    "        max_product=True,\n",
    "        gamma=gamma,\n",
    "        damping=0.9\n",
    "    )\n",
    "converged = iterations < max_iters\n",
    "converged_cnt = np.sum(converged)\n",
    "print(f\"{converged_cnt / num_cws * 100}% converged ({converged_cnt}/{num_cws})\")\n",
    "mpa_assignment = np.argmax(var_beliefs, axis=2) # decode with beliefs"
   ]
  },
  {
   "cell_type": "code",
   "execution_count": 31,
   "metadata": {},
   "outputs": [
    {
     "name": "stdout",
     "output_type": "stream",
     "text": [
      "MPA unequal MAP 0.0 % (0/100)\n",
      "converged and unequal 0.0 % (0/100)\n",
      "converged and equal 100.0 % (100/100)\n",
      "not converged and unequal nan % (0/0)\n",
      "not converged and equal nan % (0/0)\n"
     ]
    },
    {
     "name": "stderr",
     "output_type": "stream",
     "text": [
      "/tmp/ipykernel_10396/3715764287.py:15: RuntimeWarning: invalid value encountered in scalar divide\n",
      "  print(f\"not converged and unequal {notconverged_unequal_cnt / (num_cws - converged_cnt) * 100} % ({notconverged_unequal_cnt}/{num_cws - converged_cnt})\")\n",
      "/tmp/ipykernel_10396/3715764287.py:18: RuntimeWarning: invalid value encountered in scalar divide\n",
      "  print(f\"not converged and equal {notconverged_equal_cnt / (num_cws - converged_cnt) * 100} % ({notconverged_equal_cnt}/{num_cws - converged_cnt})\")\n"
     ]
    }
   ],
   "source": [
    "map_assignment = snippets.bruteforce_MAP_symbol_detection(rx)\n",
    "mpa_unequal_map = np.sum(np.logical_xor(mpa_assignment, map_assignment), axis=1) > 0\n",
    "mpa_unequal_map_cnt = np.sum(mpa_unequal_map)\n",
    "print(f\"MPA unequal MAP {mpa_unequal_map_cnt / converged_cnt * 100} % ({mpa_unequal_map_cnt}/{converged_cnt})\")\n",
    "\n",
    "# divide into 4 cases\n",
    "converged_unequal = np.logical_and(converged, mpa_unequal_map)\n",
    "converged_unequal_cnt = np.sum(converged_unequal)\n",
    "print(f\"converged and unequal {converged_unequal_cnt / converged_cnt * 100} % ({converged_unequal_cnt}/{converged_cnt})\")\n",
    "converged_equal = np.logical_and(converged, np.logical_not(mpa_unequal_map))\n",
    "converged_equal_cnt = np.sum(converged_equal)\n",
    "print(f\"converged and equal {converged_equal_cnt / converged_cnt * 100} % ({converged_equal_cnt}/{converged_cnt})\")\n",
    "notconverged_unequal = np.logical_and(np.logical_not(converged), mpa_unequal_map)\n",
    "notconverged_unequal_cnt = np.sum(notconverged_unequal)\n",
    "print(f\"not converged and unequal {notconverged_unequal_cnt / (num_cws - converged_cnt) * 100} % ({notconverged_unequal_cnt}/{num_cws - converged_cnt})\")\n",
    "notconverged_equal = np.logical_and(np.logical_not(converged), np.logical_not(mpa_unequal_map))\n",
    "notconverged_equal_cnt = np.sum(notconverged_equal)\n",
    "print(f\"not converged and equal {notconverged_equal_cnt / (num_cws - converged_cnt) * 100} % ({notconverged_equal_cnt}/{num_cws - converged_cnt})\")"
   ]
  },
  {
   "cell_type": "code",
   "execution_count": 32,
   "metadata": {},
   "outputs": [
    {
     "name": "stdout",
     "output_type": "stream",
     "text": [
      "converged equal minimum min(abs(llr)): 319.9307813337644\n"
     ]
    },
    {
     "data": {
      "image/png": "[encoded data removed]",
      "text/plain": [
       "<Figure size 432x288 with 1 Axes>"
      ]
     },
     "metadata": {
      "needs_background": "light"
     },
     "output_type": "display_data"
    }
   ],
   "source": [
    "min_abs_llr = np.min(np.abs(var_beliefs[:,:,0] - var_beliefs[:,:,1]), axis=1)\n",
    "\n",
    "finite_llrs = min_abs_llr[min_abs_llr < float('inf')]\n",
    "if len(finite_llrs) == 0:\n",
    "    raise Exception(\"all LLRs are infinite, plotting historgramm doesn't make sense\")\n",
    "max_finite_llr = np.max(finite_llrs)\n",
    "min_abs_llr[min_abs_llr == float('inf')] = max_finite_llr\n",
    "bins = np.linspace(0, max_finite_llr + 1, 20)\n",
    "\n",
    "if converged_unequal_cnt > 0:\n",
    "    print(f\"converged unequal maximum min(abs(llr)): {np.max(min_abs_llr[converged_unequal])}\")\n",
    "    plt.hist(min_abs_llr[converged_unequal], bins, alpha=0.5, label=\"converged unequal\", log=True)\n",
    "if converged_equal_cnt > 0:\n",
    "    print(f\"converged equal minimum min(abs(llr)): {np.min(min_abs_llr[converged_equal])}\")\n",
    "    plt.hist(min_abs_llr[converged_equal], bins, alpha=0.5, label=\"converged equal\", log=True)\n",
    "if notconverged_unequal_cnt > 0:\n",
    "    print(f\"not converged unequal maximum min(abs(llr)): {np.max(min_abs_llr[notconverged_unequal])}\")\n",
    "    plt.hist(min_abs_llr[notconverged_unequal], bins, alpha=0.5, label=\"not convreged unequal\", log=True)\n",
    "if notconverged_equal_cnt > 0:\n",
    "    print(f\"not converged equal minimum min(abs(llr)): {np.min(min_abs_llr[notconverged_equal])}\")\n",
    "    plt.hist(min_abs_llr[notconverged_equal], bins, alpha=0.5, label=\"not converged equal\", log=True)\n",
    "plt.legend()\n",
    "plt.show()"
   ]
  }
 ],
 "metadata": {
  "kernelspec": {
   "display_name": "Python 3",
   "language": "python",
   "name": "python3"
  },
  "language_info": {
   "codemirror_mode": {
    "name": "ipython",
    "version": 3
   },
   "file_extension": ".py",
   "mimetype": "text/x-python",
   "name": "python",
   "nbconvert_exporter": "python",
   "pygments_lexer": "ipython3",
   "version": "3.10.12"
  }
 },
 "nbformat": 4,
 "nbformat_minor": 2
}
