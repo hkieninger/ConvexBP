{
 "cells": [
  {
   "cell_type": "markdown",
   "metadata": {},
   "source": [
    "Ziel ist zu beobachten: not MAP <=> ties"
   ]
  },
  {
   "cell_type": "code",
   "execution_count": 38,
   "metadata": {},
   "outputs": [
    {
     "data": {
      "text/plain": [
       "{'divide': 'raise', 'over': 'raise', 'under': 'raise', 'invalid': 'raise'}"
      ]
     },
     "execution_count": 38,
     "metadata": {},
     "output_type": "execute_result"
    }
   ],
   "source": [
    "import numpy as np\n",
    "import matplotlib.pyplot as plt\n",
    "from ipywidgets import IntProgress\n",
    "from IPython.display import display\n",
    "\n",
    "np.random.seed(4589)\n",
    "np.seterr(all=\"raise\")\n",
    "#np.seterr(all=\"warn\")"
   ]
  },
  {
   "cell_type": "code",
   "execution_count": 39,
   "metadata": {},
   "outputs": [],
   "source": [
    "import snippets\n",
    "import utils\n",
    "import LogBeliefPropagation"
   ]
  },
  {
   "cell_type": "code",
   "execution_count": 40,
   "metadata": {},
   "outputs": [
    {
     "name": "stdout",
     "output_type": "stream",
     "text": [
      "[-1.25  -1.5   -1.75  -1.375 -1.375 -1.125 -1.25  -1.25  -1.125 -1.25\n",
      " -1.25  -1.25  -1.75  -1.5   -1.625 -1.625 -1.5   -2.125 -1.625 -1.375\n",
      " -1.875 -1.625 -1.875 -1.75 ]\n",
      "[1.33333333 2.         2.54545455 1.68421053 1.68421053 0.94117647\n",
      " 1.33333333 1.33333333 0.94117647 1.33333333 1.33333333 1.33333333\n",
      " 2.54545455 2.         2.28571429 2.28571429 2.         3.2\n",
      " 2.28571429 1.68421053 2.7826087  2.28571429 2.7826087  2.54545455]\n",
      "[0.8        0.66666667 0.62222222 0.71111111 0.71111111 1.06666667\n",
      " 0.8        0.8        1.06666667 0.8        0.8        0.8\n",
      " 0.62222222 0.66666667 0.64       0.64       0.66666667 0.59259259\n",
      " 0.64       0.71111111 0.60952381 0.64       0.60952381 0.62222222]\n"
     ]
    }
   ],
   "source": [
    "num_cws = 100\n",
    "max_iters = 2000\n",
    "EbN0 = 2\n",
    "code = snippets.n24_k12_golay\n",
    "\n",
    "rx = snippets.simulateAWGNChannelTransmission(code, EbN0, num_cws)\n",
    "\n",
    "bp = LogBeliefPropagation.LogBeliefPropagation(code.adjacency_matrix(), state_domain_size=2)\n",
    "\n",
    "c_var = bp.c_var_DefaultCBP()\n",
    "print(c_var)\n",
    "gamma = bp.gammaDefaultCBP()\n",
    "print(gamma)\n",
    "gamma = bp.dv / (2 * bp.dv - 1 + c_var)\n",
    "print(gamma)\n"
   ]
  },
  {
   "cell_type": "markdown",
   "metadata": {},
   "source": [
    "Compute MPA assignment for converged cases"
   ]
  },
  {
   "cell_type": "code",
   "execution_count": 41,
   "metadata": {},
   "outputs": [
    {
     "data": {
      "application/vnd.jupyter.widget-view+json": {
       "model_id": "7f0a5d1fb9a74e97b98b20d70e017813",
       "version_major": 2,
       "version_minor": 0
      },
      "text/plain": [
       "IntProgress(value=0)"
      ]
     },
     "metadata": {},
     "output_type": "display_data"
    },
    {
     "name": "stdout",
     "output_type": "stream",
     "text": [
      "numerical issues for 0.0% 0/100\n",
      "88.0% converged (88/100)\n"
     ]
    }
   ],
   "source": [
    "var_beliefs = np.empty((*rx.shape, 2))\n",
    "check_beliefs = np.empty((num_cws, bp.m) + bp.df_max * (2,))\n",
    "iterations = np.empty(var_beliefs.shape[0])\n",
    "\n",
    "progress_bar = IntProgress(min=0, max=num_cws)\n",
    "display(progress_bar)\n",
    "\n",
    "numerical_issues = np.zeros(num_cws, dtype=bool)\n",
    "for cw_idx in range(var_beliefs.shape[0]):\n",
    "    progress_bar.value = cw_idx\n",
    "    try:\n",
    "        (var_beliefs[cw_idx,:], check_beliefs[cw_idx,:], iterations[cw_idx]) = bp.run_log_belief_propagation(\n",
    "            max_iters=max_iters,\n",
    "            rtol=1e-3,\n",
    "            atol=1e-6,\n",
    "            infty=1e3,\n",
    "            log_factors=utils.log(code.factors_AWGN(rx[cw_idx], EbN0)),\n",
    "            max_product=True,\n",
    "            gamma=gamma,\n",
    "            damping=0.95\n",
    "        )\n",
    "    except FloatingPointError as e:\n",
    "        print(e)\n",
    "        numerical_issues[cw_idx] = True\n",
    "\n",
    "numerical_issues_cnt = np.sum(numerical_issues)\n",
    "print(f\"numerical issues for {numerical_issues_cnt / num_cws * 100}% {numerical_issues_cnt}/{num_cws}\")\n",
    "\n",
    "# discard cases with numerical issues\n",
    "num_cws = num_cws - numerical_issues_cnt\n",
    "rx = rx[np.logical_not(numerical_issues)]\n",
    "iterations = iterations[np.logical_not(numerical_issues)]\n",
    "var_beliefs = var_beliefs[np.logical_not(numerical_issues)]\n",
    "\n",
    "converged = iterations < max_iters\n",
    "converged_cnt = np.sum(converged)\n",
    "print(f\"{converged_cnt / num_cws * 100}% converged ({converged_cnt}/{num_cws})\")\n",
    "mpa_assignment = np.argmax(var_beliefs, axis=2) # decode with beliefs"
   ]
  },
  {
   "cell_type": "markdown",
   "metadata": {},
   "source": [
    "Compute MAP assignment and compare"
   ]
  },
  {
   "cell_type": "code",
   "execution_count": 42,
   "metadata": {},
   "outputs": [
    {
     "name": "stdout",
     "output_type": "stream",
     "text": [
      "MPA unequal MAP 50.0 % (50/100)\n",
      "converged and unequal 53.40909090909091 % (47/88)\n",
      "converged and equal 46.590909090909086 % (41/88)\n",
      "not converged and unequal 25.0 % (3/12)\n",
      "not converged and equal 75.0 % (9/12)\n"
     ]
    }
   ],
   "source": [
    "map_assignment = snippets.bruteforce_blockwiseMAP_AWGNChannel(code, rx)\n",
    "mpa_unequal_map = np.sum(np.logical_xor(mpa_assignment, map_assignment), axis=1) > 0\n",
    "mpa_unequal_map_cnt = np.sum(mpa_unequal_map)\n",
    "print(f\"MPA unequal MAP {mpa_unequal_map_cnt / num_cws * 100} % ({mpa_unequal_map_cnt}/{num_cws})\")\n",
    "\n",
    "# divide into 4 cases\n",
    "converged_unequal = np.logical_and(converged, mpa_unequal_map)\n",
    "converged_unequal_cnt = np.sum(converged_unequal)\n",
    "converged_equal = np.logical_and(converged, np.logical_not(mpa_unequal_map))\n",
    "converged_equal_cnt = np.sum(converged_equal)\n",
    "if converged_cnt > 0:\n",
    "    print(f\"converged and unequal {converged_unequal_cnt / converged_cnt * 100} % ({converged_unequal_cnt}/{converged_cnt})\")\n",
    "    print(f\"converged and equal {converged_equal_cnt / converged_cnt * 100} % ({converged_equal_cnt}/{converged_cnt})\")\n",
    "notconverged_unequal = np.logical_and(np.logical_not(converged), mpa_unequal_map)\n",
    "notconverged_unequal_cnt = np.sum(notconverged_unequal)\n",
    "notconverged_equal = np.logical_and(np.logical_not(converged), np.logical_not(mpa_unequal_map))\n",
    "notconverged_equal_cnt = np.sum(notconverged_equal)\n",
    "if converged_cnt < num_cws:\n",
    "    print(f\"not converged and unequal {notconverged_unequal_cnt / (num_cws - converged_cnt) * 100} % ({notconverged_unequal_cnt}/{num_cws - converged_cnt})\")\n",
    "    print(f\"not converged and equal {notconverged_equal_cnt / (num_cws - converged_cnt) * 100} % ({notconverged_equal_cnt}/{num_cws - converged_cnt})\")\n"
   ]
  },
  {
   "cell_type": "code",
   "execution_count": 43,
   "metadata": {},
   "outputs": [
    {
     "name": "stdout",
     "output_type": "stream",
     "text": [
      "converged unequal maximum min(abs(llr)): 0.007589456072650158\n",
      "converged equal minimum min(abs(llr)): 0.0006482003656019808\n",
      "not converged unequal maximum min(abs(llr)): 0.0004845901240283501\n",
      "not converged equal minimum min(abs(llr)): 0.01767088001741715\n"
     ]
    },
    {
     "data": {
      "image/png": "[encoded data removed]",
      "text/plain": [
       "<Figure size 432x288 with 1 Axes>"
      ]
     },
     "metadata": {
      "needs_background": "light"
     },
     "output_type": "display_data"
    }
   ],
   "source": [
    "min_abs_llr = np.min(np.abs(var_beliefs[:,:,0] - var_beliefs[:,:,1]), axis=1)\n",
    "\n",
    "finite_llrs = min_abs_llr[min_abs_llr < float('inf')]\n",
    "if len(finite_llrs) == 0:\n",
    "    raise Exception(\"all LLRs are infinite, plotting historgramm doesn't make sense\")\n",
    "max_finite_llr = np.max(finite_llrs)\n",
    "min_abs_llr[min_abs_llr == float('inf')] = max_finite_llr\n",
    "bins = np.linspace(0, max_finite_llr + 1, 20)\n",
    "\n",
    "if converged_unequal_cnt > 0:\n",
    "    print(f\"converged unequal maximum min(abs(llr)): {np.max(min_abs_llr[converged_unequal])}\")\n",
    "    plt.hist(min_abs_llr[converged_unequal], bins, alpha=0.5, label=\"converged unequal\", log=True)\n",
    "if converged_equal_cnt > 0:\n",
    "    print(f\"converged equal minimum min(abs(llr)): {np.min(min_abs_llr[converged_equal])}\")\n",
    "    plt.hist(min_abs_llr[converged_equal], bins, alpha=0.5, label=\"converged equal\", log=True)\n",
    "if notconverged_unequal_cnt > 0:\n",
    "    print(f\"not converged unequal maximum min(abs(llr)): {np.max(min_abs_llr[notconverged_unequal])}\")\n",
    "    plt.hist(min_abs_llr[notconverged_unequal], bins, alpha=0.5, label=\"not convreged unequal\", log=True)\n",
    "if notconverged_equal_cnt > 0:\n",
    "    print(f\"not converged equal minimum min(abs(llr)): {np.min(min_abs_llr[notconverged_equal])}\")\n",
    "    plt.hist(min_abs_llr[notconverged_equal], bins, alpha=0.5, label=\"not converged equal\", log=True)\n",
    "plt.legend()\n",
    "plt.show()"
   ]
  },
  {
   "cell_type": "code",
   "execution_count": 44,
   "metadata": {},
   "outputs": [
    {
     "name": "stdout",
     "output_type": "stream",
     "text": [
      "61\n"
     ]
    }
   ],
   "source": [
    "arg_weired = np.nonzero(converged_unequal)[0][np.argmax(min_abs_llr[converged_unequal])]\n",
    "print(arg_weired)"
   ]
  },
  {
   "cell_type": "code",
   "execution_count": null,
   "metadata": {},
   "outputs": [],
   "source": []
  }
 ],
 "metadata": {
  "kernelspec": {
   "display_name": "Python 3",
   "language": "python",
   "name": "python3"
  },
  "language_info": {
   "codemirror_mode": {
    "name": "ipython",
    "version": 3
   },
   "file_extension": ".py",
   "mimetype": "text/x-python",
   "name": "python",
   "nbconvert_exporter": "python",
   "pygments_lexer": "ipython3",
   "version": "3.10.12"
  }
 },
 "nbformat": 4,
 "nbformat_minor": 2
}
