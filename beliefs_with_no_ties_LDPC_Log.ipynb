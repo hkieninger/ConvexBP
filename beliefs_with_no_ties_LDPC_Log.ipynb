{
 "cells": [
  {
   "cell_type": "markdown",
   "metadata": {},
   "source": [
    "Ziel ist zu beobachten: not MAP <=> ties"
   ]
  },
  {
   "cell_type": "code",
   "execution_count": 8,
   "metadata": {},
   "outputs": [
    {
     "data": {
      "text/plain": [
       "{'divide': 'raise', 'over': 'raise', 'under': 'raise', 'invalid': 'raise'}"
      ]
     },
     "execution_count": 8,
     "metadata": {},
     "output_type": "execute_result"
    }
   ],
   "source": [
    "import numpy as np\n",
    "import matplotlib.pyplot as plt\n",
    "from ipywidgets import IntProgress\n",
    "from IPython.display import display\n",
    "\n",
    "np.random.seed(4589)\n",
    "np.seterr(all=\"raise\")\n",
    "#np.seterr(all=\"warn\")"
   ]
  },
  {
   "cell_type": "code",
   "execution_count": 9,
   "metadata": {},
   "outputs": [],
   "source": [
    "import snippets\n",
    "import utils\n",
    "import LogBeliefPropagation"
   ]
  },
  {
   "cell_type": "code",
   "execution_count": 10,
   "metadata": {},
   "outputs": [
    {
     "name": "stdout",
     "output_type": "stream",
     "text": [
      "[0. 0. 0. 0. 0. 0. 0.]\n",
      "[0.88888889 0.88888889 1.2        0.88888889 1.2        1.2\n",
      " 1.45454545]\n",
      "[0.66666667 0.66666667 0.6        0.66666667 0.6        0.6\n",
      " 0.57142857]\n"
     ]
    }
   ],
   "source": [
    "num_cws = 1000\n",
    "max_iters = 500\n",
    "EbN0 = 2\n",
    "code = snippets.n7k4_hamming\n",
    "\n",
    "rx = snippets.simulateAWGNChannelTransmission(code, EbN0, num_cws)\n",
    "\n",
    "bp = LogBeliefPropagation.LogBeliefPropagation(code.adjacency_matrix(), state_domain_size=2)\n",
    "\n",
    "c_var = bp.c_var_DefaultCBP()\n",
    "print(c_var)\n",
    "gamma = bp.gammaDefaultCBP()\n",
    "print(gamma)\n",
    "gamma = bp.dv / (2 * bp.dv - 1 + c_var)\n",
    "print(gamma)\n"
   ]
  },
  {
   "cell_type": "markdown",
   "metadata": {},
   "source": [
    "Compute MPA assignment for converged cases"
   ]
  },
  {
   "cell_type": "code",
   "execution_count": 11,
   "metadata": {},
   "outputs": [
    {
     "data": {
      "application/vnd.jupyter.widget-view+json": {
       "model_id": "b79c76e1042e4eacb01ee732de82060b",
       "version_major": 2,
       "version_minor": 0
      },
      "text/plain": [
       "IntProgress(value=0, max=1000)"
      ]
     },
     "metadata": {},
     "output_type": "display_data"
    },
    {
     "name": "stdout",
     "output_type": "stream",
     "text": [
      "numerical issues for 0.0% 0/1000\n",
      "94.6% converged (946/1000)\n"
     ]
    }
   ],
   "source": [
    "var_beliefs = np.empty((*rx.shape, 2))\n",
    "check_beliefs = np.empty((num_cws, bp.m) + bp.df_max * (2,))\n",
    "iterations = np.empty(var_beliefs.shape[0])\n",
    "\n",
    "progress_bar = IntProgress(min=0, max=num_cws)\n",
    "display(progress_bar)\n",
    "\n",
    "numerical_issues = np.zeros(num_cws, dtype=bool)\n",
    "for cw_idx in range(var_beliefs.shape[0]):\n",
    "    progress_bar.value = cw_idx\n",
    "    try:\n",
    "        (var_beliefs[cw_idx,:], check_beliefs[cw_idx,:], iterations[cw_idx]) = bp.run_log_belief_propagation(\n",
    "            max_iters=max_iters,\n",
    "            rtol=1e-8,\n",
    "            atol=1e-12,\n",
    "            infty=1e30,\n",
    "            log_factors=utils.log(code.factors_AWGN(rx[cw_idx], EbN0)),\n",
    "            max_product=True,\n",
    "            gamma=gamma,\n",
    "            damping=0.5\n",
    "        )\n",
    "    except FloatingPointError as e:\n",
    "        print(e)\n",
    "        numerical_issues[cw_idx] = True\n",
    "\n",
    "numerical_issues_cnt = np.sum(numerical_issues)\n",
    "print(f\"numerical issues for {numerical_issues_cnt / num_cws * 100}% {numerical_issues_cnt}/{num_cws}\")\n",
    "\n",
    "# discard cases with numerical issues\n",
    "num_cws = num_cws - numerical_issues_cnt\n",
    "rx = rx[np.logical_not(numerical_issues)]\n",
    "iterations = iterations[np.logical_not(numerical_issues)]\n",
    "var_beliefs = var_beliefs[np.logical_not(numerical_issues)]\n",
    "\n",
    "converged = iterations < max_iters\n",
    "converged_cnt = np.sum(converged)\n",
    "print(f\"{converged_cnt / num_cws * 100}% converged ({converged_cnt}/{num_cws})\")\n",
    "mpa_assignment = np.argmax(var_beliefs, axis=2) # decode with beliefs"
   ]
  },
  {
   "cell_type": "markdown",
   "metadata": {},
   "source": [
    "Compute MAP assignment and compare"
   ]
  },
  {
   "cell_type": "code",
   "execution_count": 12,
   "metadata": {},
   "outputs": [
    {
     "name": "stdout",
     "output_type": "stream",
     "text": [
      "MPA unequal MAP 4.9 % (49/1000)\n",
      "converged and unequal 4.651162790697675 % (44/946)\n",
      "converged and equal 95.34883720930233 % (902/946)\n",
      "not converged and unequal 9.25925925925926 % (5/54)\n",
      "not converged and equal 90.74074074074075 % (49/54)\n"
     ]
    }
   ],
   "source": [
    "map_assignment = snippets.bruteforce_blockwiseMAP_AWGNChannel(code, rx)\n",
    "mpa_unequal_map = np.sum(np.logical_xor(mpa_assignment, map_assignment), axis=1) > 0\n",
    "mpa_unequal_map_cnt = np.sum(mpa_unequal_map)\n",
    "print(f\"MPA unequal MAP {mpa_unequal_map_cnt / num_cws * 100} % ({mpa_unequal_map_cnt}/{num_cws})\")\n",
    "\n",
    "# divide into 4 cases\n",
    "converged_unequal = np.logical_and(converged, mpa_unequal_map)\n",
    "converged_unequal_cnt = np.sum(converged_unequal)\n",
    "converged_equal = np.logical_and(converged, np.logical_not(mpa_unequal_map))\n",
    "converged_equal_cnt = np.sum(converged_equal)\n",
    "if converged_cnt > 0:\n",
    "    print(f\"converged and unequal {converged_unequal_cnt / converged_cnt * 100} % ({converged_unequal_cnt}/{converged_cnt})\")\n",
    "    print(f\"converged and equal {converged_equal_cnt / converged_cnt * 100} % ({converged_equal_cnt}/{converged_cnt})\")\n",
    "notconverged_unequal = np.logical_and(np.logical_not(converged), mpa_unequal_map)\n",
    "notconverged_unequal_cnt = np.sum(notconverged_unequal)\n",
    "notconverged_equal = np.logical_and(np.logical_not(converged), np.logical_not(mpa_unequal_map))\n",
    "notconverged_equal_cnt = np.sum(notconverged_equal)\n",
    "if converged_cnt < num_cws:\n",
    "    print(f\"not converged and unequal {notconverged_unequal_cnt / (num_cws - converged_cnt) * 100} % ({notconverged_unequal_cnt}/{num_cws - converged_cnt})\")\n",
    "    print(f\"not converged and equal {notconverged_equal_cnt / (num_cws - converged_cnt) * 100} % ({notconverged_equal_cnt}/{num_cws - converged_cnt})\")\n"
   ]
  },
  {
   "cell_type": "code",
   "execution_count": 13,
   "metadata": {},
   "outputs": [
    {
     "name": "stdout",
     "output_type": "stream",
     "text": [
      "converged unequal maximum min(abs(llr)): 1.8320399641780227e-08\n",
      "converged equal minimum min(abs(llr)): 0.001072052630135767\n",
      "not converged unequal maximum min(abs(llr)): 1.1102230246251565e-16\n",
      "not converged equal minimum min(abs(llr)): 0.0018425381056211831\n"
     ]
    },
    {
     "data": {
      "image/png": "[encoded data removed]",
      "text/plain": [
       "<Figure size 432x288 with 1 Axes>"
      ]
     },
     "metadata": {
      "needs_background": "light"
     },
     "output_type": "display_data"
    }
   ],
   "source": [
    "min_abs_llr = np.min(np.abs(var_beliefs[:,:,0] - var_beliefs[:,:,1]), axis=1)\n",
    "\n",
    "finite_llrs = min_abs_llr[min_abs_llr < float('inf')]\n",
    "if len(finite_llrs) == 0:\n",
    "    raise Exception(\"all LLRs are infinite, plotting historgramm doesn't make sense\")\n",
    "max_finite_llr = np.max(finite_llrs)\n",
    "min_abs_llr[min_abs_llr == float('inf')] = max_finite_llr\n",
    "bins = np.linspace(0, max_finite_llr + 1, 20)\n",
    "\n",
    "if converged_unequal_cnt > 0:\n",
    "    print(f\"converged unequal maximum min(abs(llr)): {np.max(min_abs_llr[converged_unequal])}\")\n",
    "    plt.hist(min_abs_llr[converged_unequal], bins, alpha=0.5, label=\"converged unequal\", log=True)\n",
    "if converged_equal_cnt > 0:\n",
    "    print(f\"converged equal minimum min(abs(llr)): {np.min(min_abs_llr[converged_equal])}\")\n",
    "    plt.hist(min_abs_llr[converged_equal], bins, alpha=0.5, label=\"converged equal\", log=True)\n",
    "if notconverged_unequal_cnt > 0:\n",
    "    print(f\"not converged unequal maximum min(abs(llr)): {np.max(min_abs_llr[notconverged_unequal])}\")\n",
    "    plt.hist(min_abs_llr[notconverged_unequal], bins, alpha=0.5, label=\"not convreged unequal\", log=True)\n",
    "if notconverged_equal_cnt > 0:\n",
    "    print(f\"not converged equal minimum min(abs(llr)): {np.min(min_abs_llr[notconverged_equal])}\")\n",
    "    plt.hist(min_abs_llr[notconverged_equal], bins, alpha=0.5, label=\"not converged equal\", log=True)\n",
    "plt.legend()\n",
    "plt.show()"
   ]
  },
  {
   "cell_type": "code",
   "execution_count": 14,
   "metadata": {},
   "outputs": [
    {
     "name": "stdout",
     "output_type": "stream",
     "text": [
      "368\n"
     ]
    }
   ],
   "source": [
    "arg_weired = np.nonzero(converged_unequal)[0][np.argmax(min_abs_llr[converged_unequal])]\n",
    "print(arg_weired)"
   ]
  },
  {
   "cell_type": "code",
   "execution_count": null,
   "metadata": {},
   "outputs": [],
   "source": []
  }
 ],
 "metadata": {
  "kernelspec": {
   "display_name": "Python 3",
   "language": "python",
   "name": "python3"
  },
  "language_info": {
   "codemirror_mode": {
    "name": "ipython",
    "version": 3
   },
   "file_extension": ".py",
   "mimetype": "text/x-python",
   "name": "python",
   "nbconvert_exporter": "python",
   "pygments_lexer": "ipython3",
   "version": "3.10.12"
  }
 },
 "nbformat": 4,
 "nbformat_minor": 2
}
