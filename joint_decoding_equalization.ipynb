{
 "cells": [
  {
   "cell_type": "code",
   "execution_count": 72,
   "metadata": {},
   "outputs": [
    {
     "data": {
      "text/plain": [
       "{'divide': 'warn', 'over': 'warn', 'under': 'warn', 'invalid': 'warn'}"
      ]
     },
     "execution_count": 72,
     "metadata": {},
     "output_type": "execute_result"
    }
   ],
   "source": [
    "import numpy as np\n",
    "import matplotlib.pyplot as plt\n",
    "from ipywidgets import IntProgress\n",
    "from IPython.display import display\n",
    "\n",
    "np.random.seed(4589)\n",
    "np.seterr(all=\"warn\")"
   ]
  },
  {
   "cell_type": "code",
   "execution_count": 73,
   "metadata": {},
   "outputs": [],
   "source": [
    "import snippets\n",
    "import utils\n",
    "import LogBeliefPropagation"
   ]
  },
  {
   "cell_type": "code",
   "execution_count": 74,
   "metadata": {},
   "outputs": [
    {
     "name": "stderr",
     "output_type": "stream",
     "text": [
      "/tmp/ipykernel_13083/2188821384.py:12: RuntimeWarning: divide by zero encountered in log\n",
      "  log_factors_checks = np.log(code.checknode_factors())\n"
     ]
    }
   ],
   "source": [
    "num_cws = 1000\n",
    "max_iters = 1000\n",
    "EbN0 = 2\n",
    "code = snippets.n7k4_hamming\n",
    "h = snippets.h_impulse_ising_model\n",
    "\n",
    "rx = snippets.simulateLinearInterferenceAWGNChannelTransmission(code, EbN0, h, num_cws)\n",
    "EsN0_lin =  code.r * 10**(EbN0/10)\n",
    "sigma = 1 / np.sqrt(EsN0_lin) # TODO: think wether additional / sqrt(2) necessary\n",
    "adjacency_matrix_ising, log_factors_ising = snippets.symbol_detection_ising_model(rx, h, sigma)\n",
    "adjacency_matrix_checks = code.H\n",
    "log_factors_checks = np.log(code.checknode_factors())\n",
    "adjacency_matrix = np.concatenate((adjacency_matrix_ising, adjacency_matrix_checks), axis=0)\n",
    "\n",
    "bp = LogBeliefPropagation.LogBeliefPropagation(adjacency_matrix, state_domain_size=2)\n",
    "\n",
    "gamma = bp.gammaTrivialCBP()"
   ]
  },
  {
   "cell_type": "code",
   "execution_count": 75,
   "metadata": {},
   "outputs": [
    {
     "data": {
      "application/vnd.jupyter.widget-view+json": {
       "model_id": "f2d93efd06844fb3b2475b2d94bda1d2",
       "version_major": 2,
       "version_minor": 0
      },
      "text/plain": [
       "IntProgress(value=0, max=1000)"
      ]
     },
     "metadata": {},
     "output_type": "display_data"
    },
    {
     "name": "stdout",
     "output_type": "stream",
     "text": [
      "74.0% converged (740/1000)\n"
     ]
    }
   ],
   "source": [
    "var_beliefs = np.empty((num_cws, code.n, 2))\n",
    "check_beliefs = np.empty((num_cws, bp.m) + bp.df_max * (2,))\n",
    "iterations = np.empty(var_beliefs.shape[0])\n",
    "\n",
    "map_assignment = np.empty((num_cws, code.n), dtype=int)\n",
    "\n",
    "progress_bar = IntProgress(min=0, max=num_cws)\n",
    "display(progress_bar)\n",
    "\n",
    "for cw_idx in range(var_beliefs.shape[0]):\n",
    "    progress_bar.value = cw_idx\n",
    "    # ising log factors have dimension (factor_cnt, 2, 2), checks log factor have dimension (check_cnt, 2, 2, ..., 2)\n",
    "    #                                                                                                  [-- df_max --]\n",
    "    # we need to replicate the log_factors until they have the same dimensionality as the check factors\n",
    "    log_factors_ising_replicated = np.zeros((log_factors_ising[cw_idx].shape[0],) + (len(log_factors_checks.shape) - 1) * (2,))\n",
    "    log_factors_ising_replicated += log_factors_ising[cw_idx].reshape(log_factors_ising[cw_idx].shape + (len(log_factors_checks.shape) - 3) * (1,))\n",
    "    log_factors = np.concatenate((log_factors_ising_replicated, log_factors_checks), axis=0)\n",
    "    (var_beliefs[cw_idx,:], check_beliefs[cw_idx,:], iterations[cw_idx]) = bp.run_log_belief_propagation(\n",
    "        max_iters=max_iters,\n",
    "        rtol=1e-5,\n",
    "        atol=1e-8,\n",
    "        infty=1e6,\n",
    "        log_factors=log_factors,\n",
    "        max_product=True,\n",
    "        gamma=gamma,\n",
    "        damping=0.5\n",
    "    )\n",
    "    map_assignment[cw_idx] = bp.bruteforce_MAP(log_factors[np.newaxis,...])\n",
    "converged = iterations < max_iters\n",
    "converged_cnt = np.sum(converged)\n",
    "print(f\"{converged_cnt / num_cws * 100}% converged ({converged_cnt}/{num_cws})\")\n",
    "mpa_assignment = np.argmax(var_beliefs, axis=2) # decode with beliefs"
   ]
  },
  {
   "cell_type": "code",
   "execution_count": 76,
   "metadata": {},
   "outputs": [
    {
     "name": "stdout",
     "output_type": "stream",
     "text": [
      "MPA unequal MAP 35.54054054054054 % (263/740)\n",
      "converged and unequal 4.324324324324325 % (32/740)\n",
      "converged and equal 95.67567567567568 % (708/740)\n",
      "not converged and unequal 88.84615384615384 % (231/260)\n",
      "not converged and equal 11.153846153846155 % (29/260)\n"
     ]
    }
   ],
   "source": [
    "\n",
    "mpa_unequal_map = np.sum(np.logical_xor(mpa_assignment, map_assignment), axis=1) > 0\n",
    "mpa_unequal_map_cnt = np.sum(mpa_unequal_map)\n",
    "print(f\"MPA unequal MAP {mpa_unequal_map_cnt / converged_cnt * 100} % ({mpa_unequal_map_cnt}/{converged_cnt})\")\n",
    "\n",
    "# divide into 4 cases\n",
    "converged_unequal = np.logical_and(converged, mpa_unequal_map)\n",
    "converged_unequal_cnt = np.sum(converged_unequal)\n",
    "print(f\"converged and unequal {converged_unequal_cnt / converged_cnt * 100} % ({converged_unequal_cnt}/{converged_cnt})\")\n",
    "converged_equal = np.logical_and(converged, np.logical_not(mpa_unequal_map))\n",
    "converged_equal_cnt = np.sum(converged_equal)\n",
    "print(f\"converged and equal {converged_equal_cnt / converged_cnt * 100} % ({converged_equal_cnt}/{converged_cnt})\")\n",
    "notconverged_unequal = np.logical_and(np.logical_not(converged), mpa_unequal_map)\n",
    "notconverged_unequal_cnt = np.sum(notconverged_unequal)\n",
    "print(f\"not converged and unequal {notconverged_unequal_cnt / (num_cws - converged_cnt) * 100} % ({notconverged_unequal_cnt}/{num_cws - converged_cnt})\")\n",
    "notconverged_equal = np.logical_and(np.logical_not(converged), np.logical_not(mpa_unequal_map))\n",
    "notconverged_equal_cnt = np.sum(notconverged_equal)\n",
    "print(f\"not converged and equal {notconverged_equal_cnt / (num_cws - converged_cnt) * 100} % ({notconverged_equal_cnt}/{num_cws - converged_cnt})\")"
   ]
  },
  {
   "cell_type": "code",
   "execution_count": 77,
   "metadata": {},
   "outputs": [
    {
     "name": "stdout",
     "output_type": "stream",
     "text": [
      "converged unequal maximum min(abs(llr)): 10.742199751275272\n",
      "converged equal minimum min(abs(llr)): 0.05657949781342264\n",
      "not converged unequal maximum min(abs(llr)): 3.488317905252069\n",
      "not converged equal minimum min(abs(llr)): 0.026376592066180926\n"
     ]
    },
    {
     "data": {
      "image/png": "[encoded data removed]",
      "text/plain": [
       "<Figure size 432x288 with 1 Axes>"
      ]
     },
     "metadata": {
      "needs_background": "light"
     },
     "output_type": "display_data"
    }
   ],
   "source": [
    "min_abs_llr = np.min(np.abs(var_beliefs[:,:,0] - var_beliefs[:,:,1]), axis=1)\n",
    "\n",
    "finite_llrs = min_abs_llr[min_abs_llr < float('inf')]\n",
    "if len(finite_llrs) == 0:\n",
    "    raise Exception(\"all LLRs are infinite, plotting historgramm doesn't make sense\")\n",
    "max_finite_llr = np.max(finite_llrs)\n",
    "min_abs_llr[min_abs_llr == float('inf')] = max_finite_llr\n",
    "bins = np.linspace(0, max_finite_llr + 1, 20)\n",
    "\n",
    "if converged_unequal_cnt > 0:\n",
    "    print(f\"converged unequal maximum min(abs(llr)): {np.max(min_abs_llr[converged_unequal])}\")\n",
    "    plt.hist(min_abs_llr[converged_unequal], bins, alpha=0.5, label=\"converged unequal\", log=True)\n",
    "if converged_equal_cnt > 0:\n",
    "    print(f\"converged equal minimum min(abs(llr)): {np.min(min_abs_llr[converged_equal])}\")\n",
    "    plt.hist(min_abs_llr[converged_equal], bins, alpha=0.5, label=\"converged equal\", log=True)\n",
    "if notconverged_unequal_cnt > 0:\n",
    "    print(f\"not converged unequal maximum min(abs(llr)): {np.max(min_abs_llr[notconverged_unequal])}\")\n",
    "    plt.hist(min_abs_llr[notconverged_unequal], bins, alpha=0.5, label=\"not convreged unequal\", log=True)\n",
    "if notconverged_equal_cnt > 0:\n",
    "    print(f\"not converged equal minimum min(abs(llr)): {np.min(min_abs_llr[notconverged_equal])}\")\n",
    "    plt.hist(min_abs_llr[notconverged_equal], bins, alpha=0.5, label=\"not converged equal\", log=True)\n",
    "plt.legend()\n",
    "plt.show()"
   ]
  },
  {
   "cell_type": "code",
   "execution_count": null,
   "metadata": {},
   "outputs": [],
   "source": []
  }
 ],
 "metadata": {
  "kernelspec": {
   "display_name": "Python 3",
   "language": "python",
   "name": "python3"
  },
  "language_info": {
   "codemirror_mode": {
    "name": "ipython",
    "version": 3
   },
   "file_extension": ".py",
   "mimetype": "text/x-python",
   "name": "python",
   "nbconvert_exporter": "python",
   "pygments_lexer": "ipython3",
   "version": "3.10.12"
  }
 },
 "nbformat": 4,
 "nbformat_minor": 2
}
